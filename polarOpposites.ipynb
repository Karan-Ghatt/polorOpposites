{
 "cells": [
  {
   "cell_type": "code",
   "execution_count": 1,
   "id": "7a43a7c6",
   "metadata": {},
   "outputs": [],
   "source": [
    "#!pip install jupyter-dash"
   ]
  },
  {
   "cell_type": "code",
   "execution_count": 2,
   "id": "7fead63f",
   "metadata": {},
   "outputs": [
    {
     "name": "stderr",
     "output_type": "stream",
     "text": [
      "C:\\Users\\karan\\AppData\\Local\\Temp\\ipykernel_276\\3543434434.py:17: UserWarning: \n",
      "The dash_html_components package is deprecated. Please replace\n",
      "`import dash_html_components as html` with `from dash import html`\n",
      "  import dash_html_components as html\n"
     ]
    }
   ],
   "source": [
    "# Imports\n",
    "from newsfetch.google import google_search\n",
    "from newsfetch.news import newspaper\n",
    "\n",
    "from textblob import TextBlob\n",
    "from vaderSentiment.vaderSentiment import SentimentIntensityAnalyzer\n",
    "import matplotlib\n",
    "import openpyxl\n",
    "\n",
    "\n",
    "import pandas as pd\n",
    "import numpy as np\n",
    "\n",
    "from dash import Dash, html, dcc, Input, Output\n",
    "import plotly.express as px\n",
    "import dash\n",
    "import dash_html_components as html"
   ]
  },
  {
   "cell_type": "code",
   "execution_count": 3,
   "id": "cb58460f",
   "metadata": {},
   "outputs": [],
   "source": [
    "app = Dash(__name__)"
   ]
  },
  {
   "cell_type": "code",
   "execution_count": 4,
   "id": "cad715bf",
   "metadata": {},
   "outputs": [],
   "source": [
    "analyzer = SentimentIntensityAnalyzer()"
   ]
  },
  {
   "cell_type": "code",
   "execution_count": 5,
   "id": "a42fd2c4",
   "metadata": {},
   "outputs": [],
   "source": [
    "search = google_search('Kanye West', 'https://www.bbc.co.uk/news/')"
   ]
  },
  {
   "cell_type": "code",
   "execution_count": 6,
   "id": "e4769ac8",
   "metadata": {},
   "outputs": [],
   "source": [
    "posts = search.urls"
   ]
  },
  {
   "cell_type": "code",
   "execution_count": 7,
   "id": "69ad2dff",
   "metadata": {},
   "outputs": [],
   "source": [
    "list_headline = []\n",
    "\n",
    "list_headline_tb_subjectivity = []\n",
    "list_headline_tb_polarity = []\n",
    "list_headline_vs_subjectivity = []\n",
    "\n",
    "list_aricle = []\n",
    "\n",
    "list_aricle_tb_subjectivity = []\n",
    "list_aricle_tb_polarity = []\n",
    "list_aricle_vs_subjectivity = []\n",
    "\n",
    "\n",
    "\n",
    "\n",
    "for post in posts:\n",
    "\n",
    "    raw_data = newspaper(post)\n",
    "    headline = raw_data.headline\n",
    "    article = raw_data.article\n",
    "\n",
    "    blob_headline = TextBlob(headline)\n",
    "    list_headline.append(headline)\n",
    "    \n",
    "    # Textblob Headline\n",
    "    tb_subjectivity_headline = blob_headline.sentiment.subjectivity\n",
    "    list_headline_tb_subjectivity.append(tb_subjectivity_headline)\n",
    "    \n",
    "    tb_polarity_headline = blob_headline.sentiment.polarity\n",
    "    list_headline_tb_polarity.append(tb_polarity_headline)\n",
    "    \n",
    "    # Vader Headline\n",
    "    vader_headline_sentiment = analyzer.polarity_scores(headline)\n",
    "    vader_headline_coupound_score = vader_headline_sentiment.get(\"compound\")\n",
    "    list_headline_vs_subjectivity.append(vader_headline_coupound_score)\n",
    "\n",
    "\n",
    "    \n",
    "    \n",
    "    blob_article = TextBlob(article)\n",
    "    list_aricle.append(article)\n",
    "    \n",
    "    # Textblob article\n",
    "    tb_subjectivity_article = blob_article.sentiment.subjectivity\n",
    "    list_aricle_tb_subjectivity.append(tb_subjectivity_article)\n",
    "    \n",
    "    tb_polarity_article = blob_article.sentiment.polarity\n",
    "    list_aricle_tb_polarity.append(tb_polarity_article)\n",
    "    \n",
    "    vader_article_sentiment = analyzer.polarity_scores(article)\n",
    "    vader_article_coupound_score = vader_article_sentiment.get(\"compound\")\n",
    "    list_aricle_vs_subjectivity.append(vader_article_coupound_score)\n",
    "\n",
    "   \n"
   ]
  },
  {
   "cell_type": "code",
   "execution_count": 8,
   "id": "7e6d889e",
   "metadata": {
    "scrolled": true
   },
   "outputs": [
    {
     "name": "stdout",
     "output_type": "stream",
     "text": [
      "9 record returned\n"
     ]
    }
   ],
   "source": [
    "# Number of record returned\n",
    "number_of_record_returned = len(list_headline)\n",
    "print(f\"{number_of_record_returned} record returned\")"
   ]
  },
  {
   "cell_type": "code",
   "execution_count": 9,
   "id": "43f284e1",
   "metadata": {},
   "outputs": [],
   "source": [
    "df = pd.DataFrame(list(zip(list_headline, \n",
    "                            list_headline_tb_subjectivity, \n",
    "                            list_headline_tb_polarity,\n",
    "                            list_headline_vs_subjectivity, \n",
    "                            list_aricle, \n",
    "                            list_aricle_tb_subjectivity, \n",
    "                            list_aricle_tb_polarity, \n",
    "                            list_aricle_vs_subjectivity)),\n",
    "                   columns = ['headline', \n",
    "                            'headline_tb_subj', \n",
    "                            'headline_tb_pola', \n",
    "                            'headline_vad_comp', \n",
    "                            'article', \n",
    "                            'article_tb_subj', \n",
    "                            'article_tb_pola', \n",
    "                            'article_vad_comp'])"
   ]
  },
  {
   "cell_type": "code",
   "execution_count": 10,
   "id": "ae6e2e6b",
   "metadata": {},
   "outputs": [],
   "source": [
    "# Setting headline scores\n",
    "def set_headline_tb_subjectivity_score(row):\n",
    "    if row[\"headline_tb_subj\"] > 0:\n",
    "        return \"positive\"\n",
    "    elif row[\"headline_tb_subj\"] == 0:\n",
    "        return \"neutral\"\n",
    "    else:\n",
    "        return \"negative\"\n",
    "\n",
    "df = df.assign(headline_tb_subjectivity_score=df.apply(set_headline_tb_subjectivity_score, axis=1))\n",
    "\n",
    "def set_headline_tb_polarity_score(row):\n",
    "    if row[\"headline_tb_pola\"] > 0:\n",
    "        return \"positive\"\n",
    "    elif row[\"headline_tb_pola\"] == 0:\n",
    "        return \"neutral\"\n",
    "    else:\n",
    "        return \"negative\"\n",
    "\n",
    "df = df.assign(headline_tb_polarity_score=df.apply(set_headline_tb_polarity_score, axis=1))\n",
    "\n",
    "\n",
    "def set_headline_vad_comp_score(row):\n",
    "    if row[\"headline_vad_comp\"] > 0:\n",
    "        return \"positive\"\n",
    "    elif row[\"headline_vad_comp\"] == 0:\n",
    "        return \"neutral\"\n",
    "    else:\n",
    "        return \"negative\"\n",
    "\n",
    "df = df.assign(headline_vad_comp_score=df.apply(set_headline_vad_comp_score, axis=1))\n",
    "\n",
    "\n",
    "\n",
    "# Setting article scores\n",
    "def set_article_tb_subjectivity_score(row):\n",
    "    if row[\"article_tb_subj\"] > 0:\n",
    "        return \"positive\"\n",
    "    elif row[\"article_tb_subj\"] == 0:\n",
    "        return \"neutral\"\n",
    "    else:\n",
    "        return \"negative\"\n",
    "\n",
    "df = df.assign(article_tb_subjectivity_score=df.apply(set_article_tb_subjectivity_score, axis=1))\n",
    "\n",
    "def set_article_tb_polarity_score(row):\n",
    "    if row[\"article_tb_pola\"] > 0:\n",
    "        return \"positive\"\n",
    "    elif row[\"article_tb_pola\"] == 0:\n",
    "        return \"neutral\"\n",
    "    else:\n",
    "        return \"negative\"\n",
    "\n",
    "df = df.assign(article_tb_polarity_score=df.apply(set_article_tb_polarity_score, axis=1))\n",
    "\n",
    "\n",
    "def set_article_vad_comp_score(row):\n",
    "    if row[\"article_vad_comp\"] > 0:\n",
    "        return \"positive\"\n",
    "    elif row[\"article_vad_comp\"] == 0:\n",
    "        return \"neutral\"\n",
    "    else:\n",
    "        return \"negative\"\n",
    "\n",
    "df = df.assign(article_vad_comp_score=df.apply(set_article_vad_comp_score, axis=1))"
   ]
  },
  {
   "cell_type": "code",
   "execution_count": 11,
   "id": "73fbc24d",
   "metadata": {},
   "outputs": [],
   "source": [
    "#print(df)"
   ]
  },
  {
   "cell_type": "code",
   "execution_count": 12,
   "id": "3347eb88",
   "metadata": {},
   "outputs": [],
   "source": [
    "#df.to_excel(\"output_2.xlsx\")"
   ]
  },
  {
   "cell_type": "code",
   "execution_count": null,
   "id": "22c7539b",
   "metadata": {},
   "outputs": [],
   "source": [
    "sorted_df = df.sort_values(by=['article_vad_comp'])\n",
    "\n",
    "\n",
    "fig = px.bar(sorted_df, x=\"headline\", y=\"article_vad_comp\", color=\"article_vad_comp_score\", barmode=\"group\")\n",
    "\n",
    "app.layout = html.Div(children=[\n",
    "    html.H1(children='Hello Dash'),\n",
    "\n",
    "    html.Div(children='''\n",
    "        Dash: A web application framework for your data.\n",
    "    '''),\n",
    "\n",
    "    dcc.Graph(\n",
    "        id='example-graph',\n",
    "        figure=fig\n",
    "    )\n",
    "])\n",
    "    \n",
    "if __name__ == '__main__':\n",
    "    app.run_server(debug=False)"
   ]
  },
  {
   "cell_type": "code",
   "execution_count": null,
   "id": "fedd42cc",
   "metadata": {},
   "outputs": [],
   "source": []
  },
  {
   "cell_type": "code",
   "execution_count": null,
   "id": "a500743a",
   "metadata": {},
   "outputs": [],
   "source": []
  }
 ],
 "metadata": {
  "kernelspec": {
   "display_name": "Python 3 (ipykernel)",
   "language": "python",
   "name": "python3"
  },
  "language_info": {
   "codemirror_mode": {
    "name": "ipython",
    "version": 3
   },
   "file_extension": ".py",
   "mimetype": "text/x-python",
   "name": "python",
   "nbconvert_exporter": "python",
   "pygments_lexer": "ipython3",
   "version": "3.8.8"
  }
 },
 "nbformat": 4,
 "nbformat_minor": 5
}
